{
 "cells": [
  {
   "cell_type": "code",
   "execution_count": 4,
   "metadata": {},
   "outputs": [
    {
     "name": "stderr",
     "output_type": "stream",
     "text": [
      "/home/tudor/Documents/Work_AI/.venv-3.12/lib/python3.12/site-packages/cupy/_environment.py:541: UserWarning: \n",
      "--------------------------------------------------------------------------------\n",
      "\n",
      "  CuPy may not function correctly because multiple CuPy packages are installed\n",
      "  in your environment:\n",
      "\n",
      "    cupy, cupy-cuda102\n",
      "\n",
      "  Follow these steps to resolve this issue:\n",
      "\n",
      "    1. For all packages listed above, run the following command to remove all\n",
      "       existing CuPy installations:\n",
      "\n",
      "         $ pip uninstall <package_name>\n",
      "\n",
      "      If you previously installed CuPy via conda, also run the following:\n",
      "\n",
      "         $ conda uninstall cupy\n",
      "\n",
      "    2. Install the appropriate CuPy package.\n",
      "       Refer to the Installation Guide for detailed instructions.\n",
      "\n",
      "         https://docs.cupy.dev/en/stable/install.html\n",
      "\n",
      "--------------------------------------------------------------------------------\n",
      "\n",
      "  warnings.warn(f'''\n"
     ]
    }
   ],
   "source": [
    "import tqdm\n",
    "import pandas as pd\n",
    "import torch\n",
    "import numpy as np\n",
    "from transformers import BertTokenizer, BertForSequenceClassification, DistilBertTokenizerFast\n",
    "from torch.optim import AdamW as TorchAdamW\n",
    "from sklearn.model_selection import train_test_split\n",
    "from sklearn.metrics import accuracy_score\n",
    "import string\n",
    "import emoji\n",
    "import re\n",
    "\n",
    "\n",
    "import spacy\n",
    "from bs4 import BeautifulSoup\n",
    "import gensim\n",
    "from gensim.models import Word2Vec\n",
    "import numpy as np\n",
    "import string\n",
    "import unidecode\n",
    "import nltk\n",
    "import matplotlib.pyplot as plt\n",
    "import seaborn as sns"
   ]
  },
  {
   "cell_type": "code",
   "execution_count": 5,
   "metadata": {},
   "outputs": [],
   "source": [
    "METAFEATURES = ['word_count', 'unique_word_count', 'stop_word_count', 'mean_word_length', 'char_count', 'punctuation_count']"
   ]
  },
  {
   "cell_type": "code",
   "execution_count": 6,
   "metadata": {},
   "outputs": [],
   "source": [
    "train_df = pd.read_csv(\"processed_train.csv\")\n",
    "test_df = pd.read_csv(\"processed_test.csv\")"
   ]
  },
  {
   "cell_type": "code",
   "execution_count": 7,
   "metadata": {},
   "outputs": [],
   "source": [
    "meta_train = train_df[METAFEATURES]\n",
    "meta_test = test_df[METAFEATURES]"
   ]
  },
  {
   "cell_type": "code",
   "execution_count": 8,
   "metadata": {},
   "outputs": [
    {
     "data": {
      "application/vnd.microsoft.datawrangler.viewer.v0+json": {
       "columns": [
        {
         "name": "index",
         "rawType": "int64",
         "type": "integer"
        },
        {
         "name": "word_count",
         "rawType": "int64",
         "type": "integer"
        },
        {
         "name": "unique_word_count",
         "rawType": "int64",
         "type": "integer"
        },
        {
         "name": "stop_word_count",
         "rawType": "int64",
         "type": "integer"
        },
        {
         "name": "mean_word_length",
         "rawType": "float64",
         "type": "float"
        },
        {
         "name": "char_count",
         "rawType": "int64",
         "type": "integer"
        },
        {
         "name": "punctuation_count",
         "rawType": "int64",
         "type": "integer"
        }
       ],
       "conversionMethod": "pd.DataFrame",
       "ref": "ee4a0107-0358-4fc9-ab25-ec70977decfc",
       "rows": [
        [
         "0",
         "250",
         "180",
         "97",
         "5.196",
         "1548",
         "38"
        ],
        [
         "1",
         "264",
         "178",
         "109",
         "4.481060606060606",
         "1446",
         "42"
        ],
        [
         "2",
         "254",
         "181",
         "108",
         "4.464566929133858",
         "1387",
         "49"
        ],
        [
         "3",
         "694",
         "416",
         "232",
         "4.965417867435159",
         "4139",
         "189"
        ],
        [
         "4",
         "116",
         "87",
         "47",
         "4.698275862068965",
         "660",
         "24"
        ],
        [
         "5",
         "1886",
         "1032",
         "791",
         "4.7926829268292686",
         "10924",
         "345"
        ],
        [
         "6",
         "542",
         "333",
         "242",
         "4.608856088560886",
         "3039",
         "124"
        ],
        [
         "7",
         "288",
         "233",
         "92",
         "4.847222222222222",
         "1683",
         "105"
        ],
        [
         "8",
         "341",
         "228",
         "145",
         "4.586510263929619",
         "1904",
         "50"
        ],
        [
         "9",
         "597",
         "360",
         "302",
         "4.396984924623116",
         "3221",
         "90"
        ],
        [
         "10",
         "304",
         "211",
         "130",
         "4.697368421052632",
         "1731",
         "63"
        ],
        [
         "11",
         "181",
         "109",
         "68",
         "5.193370165745856",
         "1120",
         "16"
        ],
        [
         "12",
         "208",
         "141",
         "86",
         "4.846153846153846",
         "1215",
         "37"
        ],
        [
         "13",
         "524",
         "372",
         "218",
         "5.181297709923665",
         "3238",
         "102"
        ],
        [
         "14",
         "58",
         "51",
         "27",
         "4.724137931034483",
         "331",
         "12"
        ],
        [
         "15",
         "501",
         "228",
         "153",
         "5.878243512974052",
         "3445",
         "175"
        ],
        [
         "16",
         "477",
         "261",
         "217",
         "5.245283018867925",
         "2978",
         "54"
        ],
        [
         "17",
         "174",
         "110",
         "62",
         "5.431034482758621",
         "1118",
         "25"
        ],
        [
         "18",
         "120",
         "93",
         "42",
         "5.608333333333333",
         "792",
         "30"
        ],
        [
         "19",
         "467",
         "312",
         "206",
         "4.601713062098501",
         "2615",
         "64"
        ],
        [
         "20",
         "276",
         "168",
         "85",
         "5.471014492753623",
         "1785",
         "88"
        ],
        [
         "21",
         "438",
         "287",
         "176",
         "4.894977168949771",
         "2581",
         "77"
        ],
        [
         "22",
         "402",
         "254",
         "173",
         "4.527363184079602",
         "2221",
         "76"
        ],
        [
         "23",
         "176",
         "138",
         "73",
         "4.448863636363637",
         "958",
         "27"
        ],
        [
         "24",
         "177",
         "130",
         "86",
         "4.909604519774011",
         "1045",
         "21"
        ],
        [
         "25",
         "394",
         "280",
         "178",
         "4.6725888324873095",
         "2234",
         "63"
        ],
        [
         "26",
         "107",
         "73",
         "41",
         "5.803738317757009",
         "727",
         "14"
        ],
        [
         "27",
         "625",
         "359",
         "232",
         "5.5584",
         "4098",
         "81"
        ],
        [
         "28",
         "178",
         "120",
         "82",
         "4.533707865168539",
         "984",
         "33"
        ],
        [
         "29",
         "151",
         "112",
         "58",
         "5.278145695364239",
         "947",
         "24"
        ],
        [
         "30",
         "184",
         "105",
         "67",
         "4.875",
         "1080",
         "28"
        ],
        [
         "31",
         "142",
         "93",
         "52",
         "5.795774647887324",
         "964",
         "23"
        ],
        [
         "32",
         "613",
         "403",
         "235",
         "5.081566068515498",
         "3727",
         "113"
        ],
        [
         "33",
         "84",
         "67",
         "30",
         "6.107142857142857",
         "596",
         "10"
        ],
        [
         "34",
         "14",
         "14",
         "4",
         "6.857142857142857",
         "109",
         "5"
        ],
        [
         "35",
         "781",
         "444",
         "365",
         "4.895006402048655",
         "4603",
         "142"
        ],
        [
         "36",
         "342",
         "210",
         "154",
         "5.096491228070176",
         "2084",
         "41"
        ],
        [
         "37",
         "222",
         "157",
         "95",
         "5.076576576576577",
         "1348",
         "37"
        ],
        [
         "38",
         "375",
         "257",
         "123",
         "5.450666666666667",
         "2418",
         "75"
        ],
        [
         "39",
         "268",
         "152",
         "114",
         "5.052238805970149",
         "1621",
         "32"
        ],
        [
         "40",
         "384",
         "265",
         "133",
         "4.84375",
         "2243",
         "88"
        ],
        [
         "41",
         "208",
         "164",
         "76",
         "5.846153846153846",
         "1423",
         "43"
        ],
        [
         "42",
         "333",
         "239",
         "141",
         "4.708708708708708",
         "1900",
         "58"
        ],
        [
         "43",
         "236",
         "171",
         "92",
         "4.953389830508475",
         "1404",
         "38"
        ],
        [
         "44",
         "373",
         "233",
         "158",
         "5.045576407506703",
         "2254",
         "76"
        ],
        [
         "45",
         "350",
         "230",
         "166",
         "4.771428571428571",
         "2019",
         "50"
        ],
        [
         "46",
         "215",
         "149",
         "70",
         "5.744186046511628",
         "1449",
         "37"
        ],
        [
         "47",
         "491",
         "267",
         "219",
         "5.24847250509165",
         "3067",
         "71"
        ],
        [
         "48",
         "387",
         "253",
         "156",
         "4.439276485788113",
         "2104",
         "82"
        ],
        [
         "49",
         "214",
         "161",
         "100",
         "4.654205607476635",
         "1209",
         "44"
        ]
       ],
       "shape": {
        "columns": 6,
        "rows": 70575
       }
      },
      "text/html": [
       "<div>\n",
       "<style scoped>\n",
       "    .dataframe tbody tr th:only-of-type {\n",
       "        vertical-align: middle;\n",
       "    }\n",
       "\n",
       "    .dataframe tbody tr th {\n",
       "        vertical-align: top;\n",
       "    }\n",
       "\n",
       "    .dataframe thead th {\n",
       "        text-align: right;\n",
       "    }\n",
       "</style>\n",
       "<table border=\"1\" class=\"dataframe\">\n",
       "  <thead>\n",
       "    <tr style=\"text-align: right;\">\n",
       "      <th></th>\n",
       "      <th>word_count</th>\n",
       "      <th>unique_word_count</th>\n",
       "      <th>stop_word_count</th>\n",
       "      <th>mean_word_length</th>\n",
       "      <th>char_count</th>\n",
       "      <th>punctuation_count</th>\n",
       "    </tr>\n",
       "  </thead>\n",
       "  <tbody>\n",
       "    <tr>\n",
       "      <th>0</th>\n",
       "      <td>250</td>\n",
       "      <td>180</td>\n",
       "      <td>97</td>\n",
       "      <td>5.196000</td>\n",
       "      <td>1548</td>\n",
       "      <td>38</td>\n",
       "    </tr>\n",
       "    <tr>\n",
       "      <th>1</th>\n",
       "      <td>264</td>\n",
       "      <td>178</td>\n",
       "      <td>109</td>\n",
       "      <td>4.481061</td>\n",
       "      <td>1446</td>\n",
       "      <td>42</td>\n",
       "    </tr>\n",
       "    <tr>\n",
       "      <th>2</th>\n",
       "      <td>254</td>\n",
       "      <td>181</td>\n",
       "      <td>108</td>\n",
       "      <td>4.464567</td>\n",
       "      <td>1387</td>\n",
       "      <td>49</td>\n",
       "    </tr>\n",
       "    <tr>\n",
       "      <th>3</th>\n",
       "      <td>694</td>\n",
       "      <td>416</td>\n",
       "      <td>232</td>\n",
       "      <td>4.965418</td>\n",
       "      <td>4139</td>\n",
       "      <td>189</td>\n",
       "    </tr>\n",
       "    <tr>\n",
       "      <th>4</th>\n",
       "      <td>116</td>\n",
       "      <td>87</td>\n",
       "      <td>47</td>\n",
       "      <td>4.698276</td>\n",
       "      <td>660</td>\n",
       "      <td>24</td>\n",
       "    </tr>\n",
       "    <tr>\n",
       "      <th>...</th>\n",
       "      <td>...</td>\n",
       "      <td>...</td>\n",
       "      <td>...</td>\n",
       "      <td>...</td>\n",
       "      <td>...</td>\n",
       "      <td>...</td>\n",
       "    </tr>\n",
       "    <tr>\n",
       "      <th>70570</th>\n",
       "      <td>305</td>\n",
       "      <td>218</td>\n",
       "      <td>121</td>\n",
       "      <td>4.881967</td>\n",
       "      <td>1793</td>\n",
       "      <td>86</td>\n",
       "    </tr>\n",
       "    <tr>\n",
       "      <th>70571</th>\n",
       "      <td>538</td>\n",
       "      <td>360</td>\n",
       "      <td>185</td>\n",
       "      <td>4.842007</td>\n",
       "      <td>3142</td>\n",
       "      <td>118</td>\n",
       "    </tr>\n",
       "    <tr>\n",
       "      <th>70572</th>\n",
       "      <td>669</td>\n",
       "      <td>412</td>\n",
       "      <td>282</td>\n",
       "      <td>4.992526</td>\n",
       "      <td>4008</td>\n",
       "      <td>121</td>\n",
       "    </tr>\n",
       "    <tr>\n",
       "      <th>70573</th>\n",
       "      <td>212</td>\n",
       "      <td>132</td>\n",
       "      <td>102</td>\n",
       "      <td>4.353774</td>\n",
       "      <td>1134</td>\n",
       "      <td>30</td>\n",
       "    </tr>\n",
       "    <tr>\n",
       "      <th>70574</th>\n",
       "      <td>497</td>\n",
       "      <td>333</td>\n",
       "      <td>208</td>\n",
       "      <td>5.257545</td>\n",
       "      <td>3109</td>\n",
       "      <td>86</td>\n",
       "    </tr>\n",
       "  </tbody>\n",
       "</table>\n",
       "<p>70575 rows × 6 columns</p>\n",
       "</div>"
      ],
      "text/plain": [
       "       word_count  unique_word_count  stop_word_count  mean_word_length  \\\n",
       "0             250                180               97          5.196000   \n",
       "1             264                178              109          4.481061   \n",
       "2             254                181              108          4.464567   \n",
       "3             694                416              232          4.965418   \n",
       "4             116                 87               47          4.698276   \n",
       "...           ...                ...              ...               ...   \n",
       "70570         305                218              121          4.881967   \n",
       "70571         538                360              185          4.842007   \n",
       "70572         669                412              282          4.992526   \n",
       "70573         212                132              102          4.353774   \n",
       "70574         497                333              208          5.257545   \n",
       "\n",
       "       char_count  punctuation_count  \n",
       "0            1548                 38  \n",
       "1            1446                 42  \n",
       "2            1387                 49  \n",
       "3            4139                189  \n",
       "4             660                 24  \n",
       "...           ...                ...  \n",
       "70570        1793                 86  \n",
       "70571        3142                118  \n",
       "70572        4008                121  \n",
       "70573        1134                 30  \n",
       "70574        3109                 86  \n",
       "\n",
       "[70575 rows x 6 columns]"
      ]
     },
     "execution_count": 8,
     "metadata": {},
     "output_type": "execute_result"
    }
   ],
   "source": [
    "meta_train"
   ]
  },
  {
   "cell_type": "code",
   "execution_count": 9,
   "metadata": {},
   "outputs": [],
   "source": [
    "meta_train.to_csv(\"meta_train.csv\", index=False)\n",
    "meta_test.to_csv(\"meta_test.csv\", index=False)"
   ]
  },
  {
   "cell_type": "code",
   "execution_count": null,
   "metadata": {},
   "outputs": [],
   "source": []
  }
 ],
 "metadata": {
  "kernelspec": {
   "display_name": ".venv-3.12",
   "language": "python",
   "name": "python3"
  },
  "language_info": {
   "codemirror_mode": {
    "name": "ipython",
    "version": 3
   },
   "file_extension": ".py",
   "mimetype": "text/x-python",
   "name": "python",
   "nbconvert_exporter": "python",
   "pygments_lexer": "ipython3",
   "version": "3.12.9"
  }
 },
 "nbformat": 4,
 "nbformat_minor": 2
}
