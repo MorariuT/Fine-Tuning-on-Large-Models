{
 "cells": [
  {
   "cell_type": "code",
   "execution_count": null,
   "id": "cfcf92a7",
   "metadata": {
    "execution": {
     "iopub.execute_input": "2025-03-25T16:58:01.327138Z",
     "iopub.status.busy": "2025-03-25T16:58:01.326935Z",
     "iopub.status.idle": "2025-03-25T16:58:13.415468Z",
     "shell.execute_reply": "2025-03-25T16:58:13.414653Z"
    },
    "papermill": {
     "duration": 12.095684,
     "end_time": "2025-03-25T16:58:13.417046",
     "exception": false,
     "start_time": "2025-03-25T16:58:01.321362",
     "status": "completed"
    },
    "tags": []
   },
   "outputs": [],
   "source": [
    "import os\n",
    "os.environ[\"CUDA_VISIBLE_DEVICES\"] = \"-1\"\n",
    "from tensorflow.keras.preprocessing.text import Tokenizer\n",
    "from tensorflow.keras.preprocessing.sequence import pad_sequences\n",
    "import tensorflow as tf\n",
    "import pandas as pd\n",
    "import re\n",
    "import string\n",
    "import nltk\n",
    "import numpy as np"
   ]
  },
  {
   "cell_type": "code",
   "execution_count": null,
   "id": "f5d84dc1",
   "metadata": {},
   "outputs": [],
   "source": [
    "train = pd.read_csv(\"../BERT_FineTune/processed_with_extra_remove_train.csv\")\n",
    "test = pd.read_csv(\"../BERT_FineTune/processed_with_extra_remove_test.csv\")"
   ]
  },
  {
   "cell_type": "code",
   "execution_count": null,
   "id": "4c69afc9",
   "metadata": {},
   "outputs": [],
   "source": [
    "nltk.download('stopwords')\n",
    "stop_words = set(nltk.corpus.stopwords.words('romanian'))\n",
    "\n",
    "def clean_text(text, remove_numbers=True, remove_stopwords=True):\n",
    "    text = text.lower()\n",
    "    text = re.sub(f\"[{re.escape(string.punctuation)}]\", \"\", text)\n",
    "    if remove_numbers:\n",
    "        text = re.sub(r\"\\d+\", \"\", text)\n",
    "    text = re.sub(r\"\\s+\", \" \", text).strip()\n",
    "    if remove_stopwords:\n",
    "        text = \" \".join([word for word in text.split() if word not in stop_words])\n",
    "    return text\n",
    "\n",
    "train[\"text\"] = train[\"text\"].apply(lambda x: clean_text(str(x)))\n",
    "test[\"text\"] = test[\"text\"].apply(lambda x: clean_text(str(x)))\n"
   ]
  },
  {
   "cell_type": "code",
   "execution_count": null,
   "id": "4c276ca2",
   "metadata": {
    "execution": {
     "iopub.execute_input": "2025-03-25T16:58:13.429054Z",
     "iopub.status.busy": "2025-03-25T16:58:13.428571Z",
     "iopub.status.idle": "2025-03-25T16:58:13.432273Z",
     "shell.execute_reply": "2025-03-25T16:58:13.431631Z"
    },
    "papermill": {
     "duration": 0.010772,
     "end_time": "2025-03-25T16:58:13.433498",
     "exception": false,
     "start_time": "2025-03-25T16:58:13.422726",
     "status": "completed"
    },
    "tags": []
   },
   "outputs": [],
   "source": [
    "training_size = 65000\n",
    "vocab_size = 15000\n",
    "max_length = 100\n",
    "embedding_size = 512\n",
    "padding_type= 'post'\n",
    "trunc_type = 'post'\n",
    "oov_tkn = '<OOV>'"
   ]
  },
  {
   "cell_type": "code",
   "execution_count": null,
   "id": "d265b7af",
   "metadata": {},
   "outputs": [],
   "source": [
    "sentences = train[\"text\"].to_list()\n",
    "labels = train[\"class\"].to_list()"
   ]
  },
  {
   "cell_type": "code",
   "execution_count": null,
   "id": "b38f428e",
   "metadata": {
    "execution": {
     "iopub.execute_input": "2025-03-25T16:58:13.444327Z",
     "iopub.status.busy": "2025-03-25T16:58:13.444120Z",
     "iopub.status.idle": "2025-03-25T16:58:13.449632Z",
     "shell.execute_reply": "2025-03-25T16:58:13.448832Z"
    },
    "papermill": {
     "duration": 0.01237,
     "end_time": "2025-03-25T16:58:13.450906",
     "exception": false,
     "start_time": "2025-03-25T16:58:13.438536",
     "status": "completed"
    },
    "tags": []
   },
   "outputs": [],
   "source": [
    "training_sentences = sentences[:training_size]\n",
    "testing_sentences = sentences[training_size:]\n",
    "\n",
    "training_labels = labels[:training_size]\n",
    "testing_labels = labels[training_size:]\n",
    "\n",
    "len(training_sentences),len(testing_labels)"
   ]
  },
  {
   "cell_type": "code",
   "execution_count": null,
   "id": "30e74f2e",
   "metadata": {
    "execution": {
     "iopub.execute_input": "2025-03-25T16:58:13.461952Z",
     "iopub.status.busy": "2025-03-25T16:58:13.461742Z",
     "iopub.status.idle": "2025-03-25T16:58:13.623523Z",
     "shell.execute_reply": "2025-03-25T16:58:13.622797Z"
    },
    "papermill": {
     "duration": 0.168583,
     "end_time": "2025-03-25T16:58:13.624663",
     "exception": false,
     "start_time": "2025-03-25T16:58:13.456080",
     "status": "completed"
    },
    "tags": []
   },
   "outputs": [],
   "source": [
    "\n",
    "training_sentences = np.array(training_sentences)\n",
    "testing_sentences = np.array(testing_sentences)\n",
    "\n",
    "training_labels = np.array(training_labels)\n",
    "testing_labels = np.array(testing_labels)"
   ]
  },
  {
   "cell_type": "code",
   "execution_count": null,
   "id": "7a9333ff",
   "metadata": {
    "execution": {
     "iopub.execute_input": "2025-03-25T16:58:13.644891Z",
     "iopub.status.busy": "2025-03-25T16:58:13.644637Z",
     "iopub.status.idle": "2025-03-25T16:58:14.506141Z",
     "shell.execute_reply": "2025-03-25T16:58:14.505461Z"
    },
    "papermill": {
     "duration": 0.870173,
     "end_time": "2025-03-25T16:58:14.507736",
     "exception": false,
     "start_time": "2025-03-25T16:58:13.637563",
     "status": "completed"
    },
    "tags": []
   },
   "outputs": [],
   "source": [
    "tokenizer = Tokenizer(num_words = vocab_size, oov_token = oov_tkn,lower=True)\n",
    "tokenizer.fit_on_texts(training_sentences)"
   ]
  },
  {
   "cell_type": "code",
   "execution_count": null,
   "id": "ff090e1a",
   "metadata": {
    "execution": {
     "iopub.execute_input": "2025-03-25T16:58:14.519303Z",
     "iopub.status.busy": "2025-03-25T16:58:14.519065Z",
     "iopub.status.idle": "2025-03-25T16:58:15.321301Z",
     "shell.execute_reply": "2025-03-25T16:58:15.320621Z"
    },
    "papermill": {
     "duration": 0.809568,
     "end_time": "2025-03-25T16:58:15.322886",
     "exception": false,
     "start_time": "2025-03-25T16:58:14.513318",
     "status": "completed"
    },
    "tags": []
   },
   "outputs": [],
   "source": [
    "training_sequences = tokenizer.texts_to_sequences(training_sentences)\n",
    "training_padded = pad_sequences(training_sequences, padding=padding_type, truncating=trunc_type, maxlen = max_length)"
   ]
  },
  {
   "cell_type": "code",
   "execution_count": null,
   "id": "ec060c4e",
   "metadata": {
    "execution": {
     "iopub.execute_input": "2025-03-25T16:58:15.334604Z",
     "iopub.status.busy": "2025-03-25T16:58:15.334341Z",
     "iopub.status.idle": "2025-03-25T16:58:15.599052Z",
     "shell.execute_reply": "2025-03-25T16:58:15.598411Z"
    },
    "papermill": {
     "duration": 0.272077,
     "end_time": "2025-03-25T16:58:15.600631",
     "exception": false,
     "start_time": "2025-03-25T16:58:15.328554",
     "status": "completed"
    },
    "tags": []
   },
   "outputs": [],
   "source": [
    "testing_sequences = tokenizer.texts_to_sequences(testing_sentences)\n",
    "testing_padded = pad_sequences(testing_sequences, padding=padding_type, truncating=trunc_type, maxlen=max_length)"
   ]
  },
  {
   "cell_type": "markdown",
   "id": "c220e92d",
   "metadata": {
    "papermill": {
     "duration": 0.008826,
     "end_time": "2025-03-25T16:59:23.466643",
     "exception": false,
     "start_time": "2025-03-25T16:59:23.457817",
     "status": "completed"
    },
    "tags": []
   },
   "source": [
    "### LSTM Implementation"
   ]
  },
  {
   "cell_type": "code",
   "execution_count": null,
   "id": "894505a2",
   "metadata": {
    "execution": {
     "iopub.execute_input": "2025-03-25T16:59:23.485326Z",
     "iopub.status.busy": "2025-03-25T16:59:23.485081Z",
     "iopub.status.idle": "2025-03-25T16:59:23.512455Z",
     "shell.execute_reply": "2025-03-25T16:59:23.511621Z"
    },
    "papermill": {
     "duration": 0.038148,
     "end_time": "2025-03-25T16:59:23.513706",
     "exception": false,
     "start_time": "2025-03-25T16:59:23.475558",
     "status": "completed"
    },
    "tags": []
   },
   "outputs": [],
   "source": [
    "model = tf.keras.models.Sequential([\n",
    "    tf.keras.layers.Embedding(vocab_size, embedding_size, input_length=max_length),\n",
    "    tf.keras.layers.Bidirectional(tf.keras.layers.LSTM(128)),\n",
    "    tf.keras.layers.Dropout(0.6),\n",
    "    tf.keras.layers.Dense(32,activation='relu'),\n",
    "    tf.keras.layers.Dropout(0.4),\n",
    "    tf.keras.layers.Dense(1,activation='sigmoid'),\n",
    "])\n",
    "\n",
    "model.compile(loss='binary_crossentropy', optimizer=tf.keras.optimizers.Adam(3e-3), metrics=['accuracy'])"
   ]
  },
  {
   "cell_type": "code",
   "execution_count": null,
   "id": "c1bed206",
   "metadata": {
    "execution": {
     "iopub.execute_input": "2025-03-25T16:59:23.532078Z",
     "iopub.status.busy": "2025-03-25T16:59:23.531849Z",
     "iopub.status.idle": "2025-03-25T17:02:22.247563Z",
     "shell.execute_reply": "2025-03-25T17:02:22.246666Z"
    },
    "papermill": {
     "duration": 178.733963,
     "end_time": "2025-03-25T17:02:22.256466",
     "exception": false,
     "start_time": "2025-03-25T16:59:23.522503",
     "status": "completed"
    },
    "tags": []
   },
   "outputs": [],
   "source": [
    "num_epochs = 15\n",
    "\n",
    "history = model.fit(training_padded, training_labels, epochs=num_epochs, \n",
    "                    validation_data=(testing_padded,testing_labels), \n",
    "                    verbose=2, batch_size=1500)"
   ]
  },
  {
   "cell_type": "code",
   "execution_count": null,
   "id": "83400582",
   "metadata": {
    "execution": {
     "iopub.execute_input": "2025-03-25T17:02:22.624194Z",
     "iopub.status.busy": "2025-03-25T17:02:22.623975Z",
     "iopub.status.idle": "2025-03-25T17:02:22.685509Z",
     "shell.execute_reply": "2025-03-25T17:02:22.684664Z"
    },
    "papermill": {
     "duration": 0.07448,
     "end_time": "2025-03-25T17:02:22.686917",
     "exception": false,
     "start_time": "2025-03-25T17:02:22.612437",
     "status": "completed"
    },
    "tags": []
   },
   "outputs": [],
   "source": [
    "model.save('sarcasm_detecting_lstm.keras')"
   ]
  },
  {
   "cell_type": "code",
   "execution_count": null,
   "id": "2552a921",
   "metadata": {},
   "outputs": [],
   "source": [
    "def predict_sarcasm(sequences,threshold=0.5):\n",
    "    preds = []\n",
    "    new_sequences = tokenizer.texts_to_sequences(sequences)\n",
    "    new_sequences_padded = pad_sequences(new_sequences, maxlen=max_length, padding=padding_type, truncating=trunc_type)\n",
    "    predictions = model.predict(new_sequences_padded, verbose=0)\n",
    "    for i in range(len(predictions)):\n",
    "        if predictions[i]>=threshold:\n",
    "            preds.append(1)\n",
    "        else:\n",
    "            preds.append(0)\n",
    "    return preds"
   ]
  },
  {
   "cell_type": "code",
   "execution_count": null,
   "id": "6cab1b80",
   "metadata": {
    "execution": {
     "iopub.execute_input": "2025-03-25T17:02:22.709997Z",
     "iopub.status.busy": "2025-03-25T17:02:22.709736Z",
     "iopub.status.idle": "2025-03-25T17:02:22.913503Z",
     "shell.execute_reply": "2025-03-25T17:02:22.912593Z"
    },
    "papermill": {
     "duration": 0.216809,
     "end_time": "2025-03-25T17:02:22.914989",
     "exception": false,
     "start_time": "2025-03-25T17:02:22.698180",
     "status": "completed"
    },
    "tags": []
   },
   "outputs": [],
   "source": [
    "new_sentences = test[\"text\"].astype(str).to_list()\n",
    "p = predict_sarcasm(new_sentences, 0.5)"
   ]
  },
  {
   "cell_type": "code",
   "execution_count": null,
   "id": "0e9b6e5a",
   "metadata": {},
   "outputs": [],
   "source": [
    "f = open(\"ans_LSTM7.csv\", 'w')\n",
    "\n",
    "f.write(\"id,class\\n\")\n",
    "\n",
    "for i, pp in enumerate(p):\n",
    "    f.write(\"{i},{p}\\n\".format(i=i, p=(\"True\" if pp == 1 else \"False\")))\n",
    "f.close()"
   ]
  }
 ],
 "metadata": {
  "kaggle": {
   "accelerator": "gpu",
   "dataSources": [
    {
     "datasetId": 30764,
     "sourceId": 533474,
     "sourceType": "datasetVersion"
    }
   ],
   "dockerImageVersionId": 30918,
   "isGpuEnabled": true,
   "isInternetEnabled": true,
   "language": "python",
   "sourceType": "notebook"
  },
  "kernelspec": {
   "display_name": ".venv-3.12",
   "language": "python",
   "name": "python3"
  },
  "language_info": {
   "codemirror_mode": {
    "name": "ipython",
    "version": 3
   },
   "file_extension": ".py",
   "mimetype": "text/x-python",
   "name": "python",
   "nbconvert_exporter": "python",
   "pygments_lexer": "ipython3",
   "version": "3.12.9"
  },
  "papermill": {
   "default_parameters": {},
   "duration": 276.717362,
   "end_time": "2025-03-25T17:02:35.080667",
   "environment_variables": {},
   "exception": null,
   "input_path": "__notebook__.ipynb",
   "output_path": "__notebook__.ipynb",
   "parameters": {},
   "start_time": "2025-03-25T16:57:58.363305",
   "version": "2.6.0"
  }
 },
 "nbformat": 4,
 "nbformat_minor": 5
}
